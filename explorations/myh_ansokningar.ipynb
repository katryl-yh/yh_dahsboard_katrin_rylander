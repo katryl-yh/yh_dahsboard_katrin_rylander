{
 "cells": [
  {
   "cell_type": "markdown",
   "id": "63caf010",
   "metadata": {},
   "source": [
    "### Kurs ansökningsomgång kurser EDA"
   ]
  },
  {
   "cell_type": "code",
   "execution_count": 1,
   "id": "5e831387",
   "metadata": {},
   "outputs": [
    {
     "data": {
      "text/html": [
       "<div>\n",
       "<style scoped>\n",
       "    .dataframe tbody tr th:only-of-type {\n",
       "        vertical-align: middle;\n",
       "    }\n",
       "\n",
       "    .dataframe tbody tr th {\n",
       "        vertical-align: top;\n",
       "    }\n",
       "\n",
       "    .dataframe thead th {\n",
       "        text-align: right;\n",
       "    }\n",
       "</style>\n",
       "<table border=\"1\" class=\"dataframe\">\n",
       "  <thead>\n",
       "    <tr style=\"text-align: right;\">\n",
       "      <th></th>\n",
       "      <th>Diarienummer</th>\n",
       "      <th>Beslut</th>\n",
       "      <th>Anordnare namn</th>\n",
       "      <th>Utbildningsnamn</th>\n",
       "      <th>Utbildningsområde</th>\n",
       "      <th>Antal beviljade platser start 2025</th>\n",
       "      <th>Antal beviljade platser start 2026</th>\n",
       "      <th>Totalt antal beviljade platser</th>\n",
       "      <th>YH-poäng</th>\n",
       "      <th>Kommun</th>\n",
       "      <th>Län</th>\n",
       "      <th>FA-region</th>\n",
       "      <th>Antal kommuner</th>\n",
       "      <th>Antal län</th>\n",
       "      <th>Antal FA-regioner</th>\n",
       "    </tr>\n",
       "  </thead>\n",
       "  <tbody>\n",
       "    <tr>\n",
       "      <th>0</th>\n",
       "      <td>MYH 2025/1001</td>\n",
       "      <td>Avslag</td>\n",
       "      <td>Härryda kommun, Yrkeshögskolan i Mölnlycke</td>\n",
       "      <td>Frihandel och ursprung - fördjupning</td>\n",
       "      <td>Ekonomi, administration och försäljning</td>\n",
       "      <td>0</td>\n",
       "      <td>0</td>\n",
       "      <td>0</td>\n",
       "      <td>30</td>\n",
       "      <td>Härryda</td>\n",
       "      <td>Västra Götaland</td>\n",
       "      <td>Göteborg</td>\n",
       "      <td>1</td>\n",
       "      <td>1</td>\n",
       "      <td>1</td>\n",
       "    </tr>\n",
       "    <tr>\n",
       "      <th>1</th>\n",
       "      <td>MYH 2025/1002</td>\n",
       "      <td>Beviljad</td>\n",
       "      <td>TUC Sweden AB - Yrkeshögskola</td>\n",
       "      <td>IT- och informationssäkerhet för administrativ...</td>\n",
       "      <td>Data/IT</td>\n",
       "      <td>30</td>\n",
       "      <td>30</td>\n",
       "      <td>60</td>\n",
       "      <td>30</td>\n",
       "      <td>Se \"Lista flera kommuner\"</td>\n",
       "      <td>Se \"Lista flera kommuner\"</td>\n",
       "      <td>Se \"Lista flera kommuner\"</td>\n",
       "      <td>5</td>\n",
       "      <td>5</td>\n",
       "      <td>5</td>\n",
       "    </tr>\n",
       "    <tr>\n",
       "      <th>2</th>\n",
       "      <td>MYH 2025/1003</td>\n",
       "      <td>Beviljad</td>\n",
       "      <td>IHM Business School AB Göteborg</td>\n",
       "      <td>Digital redovisning &amp; hållbarhetsrapportering</td>\n",
       "      <td>Ekonomi, administration och försäljning</td>\n",
       "      <td>40</td>\n",
       "      <td>40</td>\n",
       "      <td>80</td>\n",
       "      <td>30</td>\n",
       "      <td>Göteborg</td>\n",
       "      <td>Västra Götaland</td>\n",
       "      <td>Göteborg</td>\n",
       "      <td>1</td>\n",
       "      <td>1</td>\n",
       "      <td>1</td>\n",
       "    </tr>\n",
       "    <tr>\n",
       "      <th>3</th>\n",
       "      <td>MYH 2025/1004</td>\n",
       "      <td>Beviljad</td>\n",
       "      <td>Lexicon Yrkeshögskola AB</td>\n",
       "      <td>Digitalisera dina utbildningar</td>\n",
       "      <td>Pedagogik och undervisning</td>\n",
       "      <td>35</td>\n",
       "      <td>35</td>\n",
       "      <td>70</td>\n",
       "      <td>50</td>\n",
       "      <td>Stockholm</td>\n",
       "      <td>Stockholm</td>\n",
       "      <td>Stockholm</td>\n",
       "      <td>1</td>\n",
       "      <td>1</td>\n",
       "      <td>1</td>\n",
       "    </tr>\n",
       "    <tr>\n",
       "      <th>4</th>\n",
       "      <td>MYH 2025/1005</td>\n",
       "      <td>Beviljad</td>\n",
       "      <td>Lexicon Yrkeshögskola AB</td>\n",
       "      <td>Producera digitala utbildningar</td>\n",
       "      <td>Kultur, media och design</td>\n",
       "      <td>35</td>\n",
       "      <td>0</td>\n",
       "      <td>35</td>\n",
       "      <td>50</td>\n",
       "      <td>Stockholm</td>\n",
       "      <td>Stockholm</td>\n",
       "      <td>Stockholm</td>\n",
       "      <td>1</td>\n",
       "      <td>1</td>\n",
       "      <td>1</td>\n",
       "    </tr>\n",
       "  </tbody>\n",
       "</table>\n",
       "</div>"
      ],
      "text/plain": [
       "    Diarienummer    Beslut                              Anordnare namn  \\\n",
       "0  MYH 2025/1001    Avslag  Härryda kommun, Yrkeshögskolan i Mölnlycke   \n",
       "1  MYH 2025/1002  Beviljad               TUC Sweden AB - Yrkeshögskola   \n",
       "2  MYH 2025/1003  Beviljad             IHM Business School AB Göteborg   \n",
       "3  MYH 2025/1004  Beviljad                    Lexicon Yrkeshögskola AB   \n",
       "4  MYH 2025/1005  Beviljad                    Lexicon Yrkeshögskola AB   \n",
       "\n",
       "                                     Utbildningsnamn  \\\n",
       "0               Frihandel och ursprung - fördjupning   \n",
       "1  IT- och informationssäkerhet för administrativ...   \n",
       "2      Digital redovisning & hållbarhetsrapportering   \n",
       "3                     Digitalisera dina utbildningar   \n",
       "4                    Producera digitala utbildningar   \n",
       "\n",
       "                         Utbildningsområde  \\\n",
       "0  Ekonomi, administration och försäljning   \n",
       "1                                  Data/IT   \n",
       "2  Ekonomi, administration och försäljning   \n",
       "3               Pedagogik och undervisning   \n",
       "4                 Kultur, media och design   \n",
       "\n",
       "   Antal beviljade platser start 2025  Antal beviljade platser start 2026  \\\n",
       "0                                   0                                   0   \n",
       "1                                  30                                  30   \n",
       "2                                  40                                  40   \n",
       "3                                  35                                  35   \n",
       "4                                  35                                   0   \n",
       "\n",
       "   Totalt antal beviljade platser  YH-poäng                     Kommun  \\\n",
       "0                               0        30                    Härryda   \n",
       "1                              60        30  Se \"Lista flera kommuner\"   \n",
       "2                              80        30                   Göteborg   \n",
       "3                              70        50                  Stockholm   \n",
       "4                              35        50                  Stockholm   \n",
       "\n",
       "                         Län                  FA-region  Antal kommuner  \\\n",
       "0            Västra Götaland                   Göteborg               1   \n",
       "1  Se \"Lista flera kommuner\"  Se \"Lista flera kommuner\"               5   \n",
       "2            Västra Götaland                   Göteborg               1   \n",
       "3                  Stockholm                  Stockholm               1   \n",
       "4                  Stockholm                  Stockholm               1   \n",
       "\n",
       "   Antal län  Antal FA-regioner  \n",
       "0          1                  1  \n",
       "1          5                  5  \n",
       "2          1                  1  \n",
       "3          1                  1  \n",
       "4          1                  1  "
      ]
     },
     "execution_count": 1,
     "metadata": {},
     "output_type": "execute_result"
    }
   ],
   "source": [
    "import plotly.express as px\n",
    "import pandas as pd\n",
    "\n",
    "df = pd.read_excel(\n",
    "    \"../data/resultat_kurser/resultat-2025-for-kurser-inom-yh.xlsx\",\n",
    "    sheet_name=\"Lista ansökningar\",\n",
    "    #skiprows=5,\n",
    ")\n",
    "\n",
    "df.head()"
   ]
  },
  {
   "cell_type": "code",
   "execution_count": 2,
   "id": "173c8b9b",
   "metadata": {},
   "outputs": [
    {
     "data": {
      "text/plain": [
       "Län\n",
       "Stockholm                    308\n",
       "Se \"Lista flera kommuner\"    256\n",
       "Västra Götaland              193\n",
       "Skåne                         64\n",
       "Örebro                        37\n",
       "Västmanland                   25\n",
       "Södermanland                  17\n",
       "Västerbotten                  17\n",
       "Kronoberg                     14\n",
       "Jönköping                     14\n",
       "Östergötland                  14\n",
       "Västernorrland                13\n",
       "Norrbotten                    10\n",
       "Gävleborg                     10\n",
       "Uppsala                        8\n",
       "Dalarna                        7\n",
       "Värmland                       6\n",
       "Blekinge                       5\n",
       "Kalmar                         4\n",
       "Halland                        2\n",
       "Jämtland                       2\n",
       "Name: count, dtype: int64"
      ]
     },
     "execution_count": 2,
     "metadata": {},
     "output_type": "execute_result"
    }
   ],
   "source": [
    "df[\"Län\"].value_counts()"
   ]
  },
  {
   "cell_type": "code",
   "execution_count": 3,
   "id": "8b9b634f",
   "metadata": {},
   "outputs": [
    {
     "data": {
      "application/vnd.plotly.v1+json": {
       "config": {
        "plotlyServerURL": "https://plot.ly"
       },
       "data": [
        {
         "hovertemplate": "variable=count<br>Län=%{x}<br>value=%{y}<extra></extra>",
         "legendgroup": "count",
         "marker": {
          "color": "#636efa",
          "pattern": {
           "shape": ""
          }
         },
         "name": "count",
         "orientation": "v",
         "showlegend": true,
         "textposition": "auto",
         "type": "bar",
         "x": [
          "Stockholm",
          "Se \"Lista flera kommuner\"",
          "Västra Götaland",
          "Skåne",
          "Örebro",
          "Västmanland",
          "Södermanland",
          "Västerbotten",
          "Kronoberg",
          "Jönköping",
          "Östergötland",
          "Västernorrland",
          "Norrbotten",
          "Gävleborg",
          "Uppsala",
          "Dalarna",
          "Värmland",
          "Blekinge",
          "Kalmar",
          "Halland",
          "Jämtland"
         ],
         "xaxis": "x",
         "y": {
          "bdata": "NAEAAcEAQAAlABkAEQARAA4ADgAOAA0ACgAKAAgABwAGAAUABAACAAIA",
          "dtype": "i2"
         },
         "yaxis": "y"
        }
       ],
       "layout": {
        "barmode": "relative",
        "legend": {
         "title": {
          "text": "variable"
         },
         "tracegroupgap": 0
        },
        "margin": {
         "t": 60
        },
        "template": {
         "data": {
          "bar": [
           {
            "error_x": {
             "color": "#2a3f5f"
            },
            "error_y": {
             "color": "#2a3f5f"
            },
            "marker": {
             "line": {
              "color": "#E5ECF6",
              "width": 0.5
             },
             "pattern": {
              "fillmode": "overlay",
              "size": 10,
              "solidity": 0.2
             }
            },
            "type": "bar"
           }
          ],
          "barpolar": [
           {
            "marker": {
             "line": {
              "color": "#E5ECF6",
              "width": 0.5
             },
             "pattern": {
              "fillmode": "overlay",
              "size": 10,
              "solidity": 0.2
             }
            },
            "type": "barpolar"
           }
          ],
          "carpet": [
           {
            "aaxis": {
             "endlinecolor": "#2a3f5f",
             "gridcolor": "white",
             "linecolor": "white",
             "minorgridcolor": "white",
             "startlinecolor": "#2a3f5f"
            },
            "baxis": {
             "endlinecolor": "#2a3f5f",
             "gridcolor": "white",
             "linecolor": "white",
             "minorgridcolor": "white",
             "startlinecolor": "#2a3f5f"
            },
            "type": "carpet"
           }
          ],
          "choropleth": [
           {
            "colorbar": {
             "outlinewidth": 0,
             "ticks": ""
            },
            "type": "choropleth"
           }
          ],
          "contour": [
           {
            "colorbar": {
             "outlinewidth": 0,
             "ticks": ""
            },
            "colorscale": [
             [
              0,
              "#0d0887"
             ],
             [
              0.1111111111111111,
              "#46039f"
             ],
             [
              0.2222222222222222,
              "#7201a8"
             ],
             [
              0.3333333333333333,
              "#9c179e"
             ],
             [
              0.4444444444444444,
              "#bd3786"
             ],
             [
              0.5555555555555556,
              "#d8576b"
             ],
             [
              0.6666666666666666,
              "#ed7953"
             ],
             [
              0.7777777777777778,
              "#fb9f3a"
             ],
             [
              0.8888888888888888,
              "#fdca26"
             ],
             [
              1,
              "#f0f921"
             ]
            ],
            "type": "contour"
           }
          ],
          "contourcarpet": [
           {
            "colorbar": {
             "outlinewidth": 0,
             "ticks": ""
            },
            "type": "contourcarpet"
           }
          ],
          "heatmap": [
           {
            "colorbar": {
             "outlinewidth": 0,
             "ticks": ""
            },
            "colorscale": [
             [
              0,
              "#0d0887"
             ],
             [
              0.1111111111111111,
              "#46039f"
             ],
             [
              0.2222222222222222,
              "#7201a8"
             ],
             [
              0.3333333333333333,
              "#9c179e"
             ],
             [
              0.4444444444444444,
              "#bd3786"
             ],
             [
              0.5555555555555556,
              "#d8576b"
             ],
             [
              0.6666666666666666,
              "#ed7953"
             ],
             [
              0.7777777777777778,
              "#fb9f3a"
             ],
             [
              0.8888888888888888,
              "#fdca26"
             ],
             [
              1,
              "#f0f921"
             ]
            ],
            "type": "heatmap"
           }
          ],
          "histogram": [
           {
            "marker": {
             "pattern": {
              "fillmode": "overlay",
              "size": 10,
              "solidity": 0.2
             }
            },
            "type": "histogram"
           }
          ],
          "histogram2d": [
           {
            "colorbar": {
             "outlinewidth": 0,
             "ticks": ""
            },
            "colorscale": [
             [
              0,
              "#0d0887"
             ],
             [
              0.1111111111111111,
              "#46039f"
             ],
             [
              0.2222222222222222,
              "#7201a8"
             ],
             [
              0.3333333333333333,
              "#9c179e"
             ],
             [
              0.4444444444444444,
              "#bd3786"
             ],
             [
              0.5555555555555556,
              "#d8576b"
             ],
             [
              0.6666666666666666,
              "#ed7953"
             ],
             [
              0.7777777777777778,
              "#fb9f3a"
             ],
             [
              0.8888888888888888,
              "#fdca26"
             ],
             [
              1,
              "#f0f921"
             ]
            ],
            "type": "histogram2d"
           }
          ],
          "histogram2dcontour": [
           {
            "colorbar": {
             "outlinewidth": 0,
             "ticks": ""
            },
            "colorscale": [
             [
              0,
              "#0d0887"
             ],
             [
              0.1111111111111111,
              "#46039f"
             ],
             [
              0.2222222222222222,
              "#7201a8"
             ],
             [
              0.3333333333333333,
              "#9c179e"
             ],
             [
              0.4444444444444444,
              "#bd3786"
             ],
             [
              0.5555555555555556,
              "#d8576b"
             ],
             [
              0.6666666666666666,
              "#ed7953"
             ],
             [
              0.7777777777777778,
              "#fb9f3a"
             ],
             [
              0.8888888888888888,
              "#fdca26"
             ],
             [
              1,
              "#f0f921"
             ]
            ],
            "type": "histogram2dcontour"
           }
          ],
          "mesh3d": [
           {
            "colorbar": {
             "outlinewidth": 0,
             "ticks": ""
            },
            "type": "mesh3d"
           }
          ],
          "parcoords": [
           {
            "line": {
             "colorbar": {
              "outlinewidth": 0,
              "ticks": ""
             }
            },
            "type": "parcoords"
           }
          ],
          "pie": [
           {
            "automargin": true,
            "type": "pie"
           }
          ],
          "scatter": [
           {
            "fillpattern": {
             "fillmode": "overlay",
             "size": 10,
             "solidity": 0.2
            },
            "type": "scatter"
           }
          ],
          "scatter3d": [
           {
            "line": {
             "colorbar": {
              "outlinewidth": 0,
              "ticks": ""
             }
            },
            "marker": {
             "colorbar": {
              "outlinewidth": 0,
              "ticks": ""
             }
            },
            "type": "scatter3d"
           }
          ],
          "scattercarpet": [
           {
            "marker": {
             "colorbar": {
              "outlinewidth": 0,
              "ticks": ""
             }
            },
            "type": "scattercarpet"
           }
          ],
          "scattergeo": [
           {
            "marker": {
             "colorbar": {
              "outlinewidth": 0,
              "ticks": ""
             }
            },
            "type": "scattergeo"
           }
          ],
          "scattergl": [
           {
            "marker": {
             "colorbar": {
              "outlinewidth": 0,
              "ticks": ""
             }
            },
            "type": "scattergl"
           }
          ],
          "scattermap": [
           {
            "marker": {
             "colorbar": {
              "outlinewidth": 0,
              "ticks": ""
             }
            },
            "type": "scattermap"
           }
          ],
          "scattermapbox": [
           {
            "marker": {
             "colorbar": {
              "outlinewidth": 0,
              "ticks": ""
             }
            },
            "type": "scattermapbox"
           }
          ],
          "scatterpolar": [
           {
            "marker": {
             "colorbar": {
              "outlinewidth": 0,
              "ticks": ""
             }
            },
            "type": "scatterpolar"
           }
          ],
          "scatterpolargl": [
           {
            "marker": {
             "colorbar": {
              "outlinewidth": 0,
              "ticks": ""
             }
            },
            "type": "scatterpolargl"
           }
          ],
          "scatterternary": [
           {
            "marker": {
             "colorbar": {
              "outlinewidth": 0,
              "ticks": ""
             }
            },
            "type": "scatterternary"
           }
          ],
          "surface": [
           {
            "colorbar": {
             "outlinewidth": 0,
             "ticks": ""
            },
            "colorscale": [
             [
              0,
              "#0d0887"
             ],
             [
              0.1111111111111111,
              "#46039f"
             ],
             [
              0.2222222222222222,
              "#7201a8"
             ],
             [
              0.3333333333333333,
              "#9c179e"
             ],
             [
              0.4444444444444444,
              "#bd3786"
             ],
             [
              0.5555555555555556,
              "#d8576b"
             ],
             [
              0.6666666666666666,
              "#ed7953"
             ],
             [
              0.7777777777777778,
              "#fb9f3a"
             ],
             [
              0.8888888888888888,
              "#fdca26"
             ],
             [
              1,
              "#f0f921"
             ]
            ],
            "type": "surface"
           }
          ],
          "table": [
           {
            "cells": {
             "fill": {
              "color": "#EBF0F8"
             },
             "line": {
              "color": "white"
             }
            },
            "header": {
             "fill": {
              "color": "#C8D4E3"
             },
             "line": {
              "color": "white"
             }
            },
            "type": "table"
           }
          ]
         },
         "layout": {
          "annotationdefaults": {
           "arrowcolor": "#2a3f5f",
           "arrowhead": 0,
           "arrowwidth": 1
          },
          "autotypenumbers": "strict",
          "coloraxis": {
           "colorbar": {
            "outlinewidth": 0,
            "ticks": ""
           }
          },
          "colorscale": {
           "diverging": [
            [
             0,
             "#8e0152"
            ],
            [
             0.1,
             "#c51b7d"
            ],
            [
             0.2,
             "#de77ae"
            ],
            [
             0.3,
             "#f1b6da"
            ],
            [
             0.4,
             "#fde0ef"
            ],
            [
             0.5,
             "#f7f7f7"
            ],
            [
             0.6,
             "#e6f5d0"
            ],
            [
             0.7,
             "#b8e186"
            ],
            [
             0.8,
             "#7fbc41"
            ],
            [
             0.9,
             "#4d9221"
            ],
            [
             1,
             "#276419"
            ]
           ],
           "sequential": [
            [
             0,
             "#0d0887"
            ],
            [
             0.1111111111111111,
             "#46039f"
            ],
            [
             0.2222222222222222,
             "#7201a8"
            ],
            [
             0.3333333333333333,
             "#9c179e"
            ],
            [
             0.4444444444444444,
             "#bd3786"
            ],
            [
             0.5555555555555556,
             "#d8576b"
            ],
            [
             0.6666666666666666,
             "#ed7953"
            ],
            [
             0.7777777777777778,
             "#fb9f3a"
            ],
            [
             0.8888888888888888,
             "#fdca26"
            ],
            [
             1,
             "#f0f921"
            ]
           ],
           "sequentialminus": [
            [
             0,
             "#0d0887"
            ],
            [
             0.1111111111111111,
             "#46039f"
            ],
            [
             0.2222222222222222,
             "#7201a8"
            ],
            [
             0.3333333333333333,
             "#9c179e"
            ],
            [
             0.4444444444444444,
             "#bd3786"
            ],
            [
             0.5555555555555556,
             "#d8576b"
            ],
            [
             0.6666666666666666,
             "#ed7953"
            ],
            [
             0.7777777777777778,
             "#fb9f3a"
            ],
            [
             0.8888888888888888,
             "#fdca26"
            ],
            [
             1,
             "#f0f921"
            ]
           ]
          },
          "colorway": [
           "#636efa",
           "#EF553B",
           "#00cc96",
           "#ab63fa",
           "#FFA15A",
           "#19d3f3",
           "#FF6692",
           "#B6E880",
           "#FF97FF",
           "#FECB52"
          ],
          "font": {
           "color": "#2a3f5f"
          },
          "geo": {
           "bgcolor": "white",
           "lakecolor": "white",
           "landcolor": "#E5ECF6",
           "showlakes": true,
           "showland": true,
           "subunitcolor": "white"
          },
          "hoverlabel": {
           "align": "left"
          },
          "hovermode": "closest",
          "mapbox": {
           "style": "light"
          },
          "paper_bgcolor": "white",
          "plot_bgcolor": "#E5ECF6",
          "polar": {
           "angularaxis": {
            "gridcolor": "white",
            "linecolor": "white",
            "ticks": ""
           },
           "bgcolor": "#E5ECF6",
           "radialaxis": {
            "gridcolor": "white",
            "linecolor": "white",
            "ticks": ""
           }
          },
          "scene": {
           "xaxis": {
            "backgroundcolor": "#E5ECF6",
            "gridcolor": "white",
            "gridwidth": 2,
            "linecolor": "white",
            "showbackground": true,
            "ticks": "",
            "zerolinecolor": "white"
           },
           "yaxis": {
            "backgroundcolor": "#E5ECF6",
            "gridcolor": "white",
            "gridwidth": 2,
            "linecolor": "white",
            "showbackground": true,
            "ticks": "",
            "zerolinecolor": "white"
           },
           "zaxis": {
            "backgroundcolor": "#E5ECF6",
            "gridcolor": "white",
            "gridwidth": 2,
            "linecolor": "white",
            "showbackground": true,
            "ticks": "",
            "zerolinecolor": "white"
           }
          },
          "shapedefaults": {
           "line": {
            "color": "#2a3f5f"
           }
          },
          "ternary": {
           "aaxis": {
            "gridcolor": "white",
            "linecolor": "white",
            "ticks": ""
           },
           "baxis": {
            "gridcolor": "white",
            "linecolor": "white",
            "ticks": ""
           },
           "bgcolor": "#E5ECF6",
           "caxis": {
            "gridcolor": "white",
            "linecolor": "white",
            "ticks": ""
           }
          },
          "title": {
           "x": 0.05
          },
          "xaxis": {
           "automargin": true,
           "gridcolor": "white",
           "linecolor": "white",
           "ticks": "",
           "title": {
            "standoff": 15
           },
           "zerolinecolor": "white",
           "zerolinewidth": 2
          },
          "yaxis": {
           "automargin": true,
           "gridcolor": "white",
           "linecolor": "white",
           "ticks": "",
           "title": {
            "standoff": 15
           },
           "zerolinecolor": "white",
           "zerolinewidth": 2
          }
         }
        },
        "xaxis": {
         "anchor": "y",
         "domain": [
          0,
          1
         ],
         "title": {
          "text": "Län"
         }
        },
        "yaxis": {
         "anchor": "x",
         "domain": [
          0,
          1
         ],
         "title": {
          "text": "value"
         }
        }
       }
      }
     },
     "metadata": {},
     "output_type": "display_data"
    }
   ],
   "source": [
    "px.bar(df[\"Län\"].value_counts(), )"
   ]
  },
  {
   "cell_type": "code",
   "execution_count": 4,
   "id": "57095c2d",
   "metadata": {},
   "outputs": [
    {
     "data": {
      "text/html": [
       "<div>\n",
       "<style scoped>\n",
       "    .dataframe tbody tr th:only-of-type {\n",
       "        vertical-align: middle;\n",
       "    }\n",
       "\n",
       "    .dataframe tbody tr th {\n",
       "        vertical-align: top;\n",
       "    }\n",
       "\n",
       "    .dataframe thead th {\n",
       "        text-align: right;\n",
       "    }\n",
       "</style>\n",
       "<table border=\"1\" class=\"dataframe\">\n",
       "  <thead>\n",
       "    <tr style=\"text-align: right;\">\n",
       "      <th></th>\n",
       "      <th>Utbildningsområde</th>\n",
       "      <th>Ansökta utbildningar</th>\n",
       "    </tr>\n",
       "  </thead>\n",
       "  <tbody>\n",
       "    <tr>\n",
       "      <th>0</th>\n",
       "      <td>Ekonomi, administration och försäljning</td>\n",
       "      <td>99</td>\n",
       "    </tr>\n",
       "    <tr>\n",
       "      <th>1</th>\n",
       "      <td>Data/IT</td>\n",
       "      <td>65</td>\n",
       "    </tr>\n",
       "    <tr>\n",
       "      <th>2</th>\n",
       "      <td>Samhällsbyggnad och byggteknik</td>\n",
       "      <td>41</td>\n",
       "    </tr>\n",
       "    <tr>\n",
       "      <th>3</th>\n",
       "      <td>Hälso- och sjukvård samt socialt arbete</td>\n",
       "      <td>23</td>\n",
       "    </tr>\n",
       "    <tr>\n",
       "      <th>4</th>\n",
       "      <td>Säkerhetstjänster</td>\n",
       "      <td>15</td>\n",
       "    </tr>\n",
       "    <tr>\n",
       "      <th>5</th>\n",
       "      <td>Lantbruk, djurvård, trädgård, skog och fiske</td>\n",
       "      <td>11</td>\n",
       "    </tr>\n",
       "    <tr>\n",
       "      <th>6</th>\n",
       "      <td>Juridik</td>\n",
       "      <td>11</td>\n",
       "    </tr>\n",
       "    <tr>\n",
       "      <th>7</th>\n",
       "      <td>Kultur, media och design</td>\n",
       "      <td>10</td>\n",
       "    </tr>\n",
       "    <tr>\n",
       "      <th>8</th>\n",
       "      <td>Hotell, restaurang och turism</td>\n",
       "      <td>9</td>\n",
       "    </tr>\n",
       "    <tr>\n",
       "      <th>9</th>\n",
       "      <td>Teknik och tillverkning</td>\n",
       "      <td>8</td>\n",
       "    </tr>\n",
       "    <tr>\n",
       "      <th>10</th>\n",
       "      <td>Pedagogik och undervisning</td>\n",
       "      <td>7</td>\n",
       "    </tr>\n",
       "    <tr>\n",
       "      <th>11</th>\n",
       "      <td>Journalistik och information</td>\n",
       "      <td>7</td>\n",
       "    </tr>\n",
       "    <tr>\n",
       "      <th>12</th>\n",
       "      <td>Transporttjänster</td>\n",
       "      <td>1</td>\n",
       "    </tr>\n",
       "    <tr>\n",
       "      <th>13</th>\n",
       "      <td>Övrigt</td>\n",
       "      <td>1</td>\n",
       "    </tr>\n",
       "  </tbody>\n",
       "</table>\n",
       "</div>"
      ],
      "text/plain": [
       "                               Utbildningsområde  Ansökta utbildningar\n",
       "0        Ekonomi, administration och försäljning                    99\n",
       "1                                        Data/IT                    65\n",
       "2                 Samhällsbyggnad och byggteknik                    41\n",
       "3        Hälso- och sjukvård samt socialt arbete                    23\n",
       "4                              Säkerhetstjänster                    15\n",
       "5   Lantbruk, djurvård, trädgård, skog och fiske                    11\n",
       "6                                        Juridik                    11\n",
       "7                       Kultur, media och design                    10\n",
       "8                  Hotell, restaurang och turism                     9\n",
       "9                        Teknik och tillverkning                     8\n",
       "10                    Pedagogik och undervisning                     7\n",
       "11                  Journalistik och information                     7\n",
       "12                             Transporttjänster                     1\n",
       "13                                        Övrigt                     1"
      ]
     },
     "execution_count": 4,
     "metadata": {},
     "output_type": "execute_result"
    }
   ],
   "source": [
    "df.query(\"Län == 'Stockholm'\")[\n",
    "    \"Utbildningsområde\"\n",
    "].value_counts().reset_index().rename({\"count\": \"Ansökta utbildningar\"}, axis=1)"
   ]
  },
  {
   "cell_type": "code",
   "execution_count": 5,
   "id": "c74c111f",
   "metadata": {},
   "outputs": [
    {
     "data": {
      "text/html": [
       "<div>\n",
       "<style scoped>\n",
       "    .dataframe tbody tr th:only-of-type {\n",
       "        vertical-align: middle;\n",
       "    }\n",
       "\n",
       "    .dataframe tbody tr th {\n",
       "        vertical-align: top;\n",
       "    }\n",
       "\n",
       "    .dataframe thead th {\n",
       "        text-align: right;\n",
       "    }\n",
       "</style>\n",
       "<table border=\"1\" class=\"dataframe\">\n",
       "  <thead>\n",
       "    <tr style=\"text-align: right;\">\n",
       "      <th></th>\n",
       "      <th>Utbildningsområde</th>\n",
       "      <th>Ansökta utbildningar</th>\n",
       "    </tr>\n",
       "  </thead>\n",
       "  <tbody>\n",
       "    <tr>\n",
       "      <th>0</th>\n",
       "      <td>Ekonomi, administration och försäljning</td>\n",
       "      <td>99</td>\n",
       "    </tr>\n",
       "    <tr>\n",
       "      <th>1</th>\n",
       "      <td>Data/IT</td>\n",
       "      <td>65</td>\n",
       "    </tr>\n",
       "    <tr>\n",
       "      <th>2</th>\n",
       "      <td>Samhällsbyggnad och byggteknik</td>\n",
       "      <td>41</td>\n",
       "    </tr>\n",
       "    <tr>\n",
       "      <th>3</th>\n",
       "      <td>Hälso- och sjukvård samt socialt arbete</td>\n",
       "      <td>23</td>\n",
       "    </tr>\n",
       "    <tr>\n",
       "      <th>4</th>\n",
       "      <td>Säkerhetstjänster</td>\n",
       "      <td>15</td>\n",
       "    </tr>\n",
       "    <tr>\n",
       "      <th>5</th>\n",
       "      <td>Lantbruk, djurvård, trädgård, skog och fiske</td>\n",
       "      <td>11</td>\n",
       "    </tr>\n",
       "    <tr>\n",
       "      <th>6</th>\n",
       "      <td>Juridik</td>\n",
       "      <td>11</td>\n",
       "    </tr>\n",
       "    <tr>\n",
       "      <th>7</th>\n",
       "      <td>Kultur, media och design</td>\n",
       "      <td>10</td>\n",
       "    </tr>\n",
       "    <tr>\n",
       "      <th>8</th>\n",
       "      <td>Hotell, restaurang och turism</td>\n",
       "      <td>9</td>\n",
       "    </tr>\n",
       "    <tr>\n",
       "      <th>9</th>\n",
       "      <td>Teknik och tillverkning</td>\n",
       "      <td>8</td>\n",
       "    </tr>\n",
       "    <tr>\n",
       "      <th>10</th>\n",
       "      <td>Pedagogik och undervisning</td>\n",
       "      <td>7</td>\n",
       "    </tr>\n",
       "    <tr>\n",
       "      <th>11</th>\n",
       "      <td>Journalistik och information</td>\n",
       "      <td>7</td>\n",
       "    </tr>\n",
       "    <tr>\n",
       "      <th>12</th>\n",
       "      <td>Transporttjänster</td>\n",
       "      <td>1</td>\n",
       "    </tr>\n",
       "    <tr>\n",
       "      <th>13</th>\n",
       "      <td>Övrigt</td>\n",
       "      <td>1</td>\n",
       "    </tr>\n",
       "  </tbody>\n",
       "</table>\n",
       "</div>"
      ],
      "text/plain": [
       "                               Utbildningsområde  Ansökta utbildningar\n",
       "0        Ekonomi, administration och försäljning                    99\n",
       "1                                        Data/IT                    65\n",
       "2                 Samhällsbyggnad och byggteknik                    41\n",
       "3        Hälso- och sjukvård samt socialt arbete                    23\n",
       "4                              Säkerhetstjänster                    15\n",
       "5   Lantbruk, djurvård, trädgård, skog och fiske                    11\n",
       "6                                        Juridik                    11\n",
       "7                       Kultur, media och design                    10\n",
       "8                  Hotell, restaurang och turism                     9\n",
       "9                        Teknik och tillverkning                     8\n",
       "10                    Pedagogik och undervisning                     7\n",
       "11                  Journalistik och information                     7\n",
       "12                             Transporttjänster                     1\n",
       "13                                        Övrigt                     1"
      ]
     },
     "execution_count": 5,
     "metadata": {},
     "output_type": "execute_result"
    }
   ],
   "source": [
    "# målet\n",
    "# antalet sökta utbildningar per Län\n",
    "\n",
    "def filter_per_county(df, county=\"Stockholm\"):\n",
    "    return (\n",
    "        df.query(\"Län == @county\")[\"Utbildningsområde\"]\n",
    "        .value_counts()\n",
    "        .reset_index()\n",
    "        .rename({\"count\": \"Ansökta utbildningar\"}, axis=1)\n",
    "    )\n",
    "\n",
    "filter_per_county(df)"
   ]
  },
  {
   "cell_type": "code",
   "execution_count": 6,
   "id": "c0447220",
   "metadata": {},
   "outputs": [
    {
     "data": {
      "text/html": [
       "<div>\n",
       "<style scoped>\n",
       "    .dataframe tbody tr th:only-of-type {\n",
       "        vertical-align: middle;\n",
       "    }\n",
       "\n",
       "    .dataframe tbody tr th {\n",
       "        vertical-align: top;\n",
       "    }\n",
       "\n",
       "    .dataframe thead th {\n",
       "        text-align: right;\n",
       "    }\n",
       "</style>\n",
       "<table border=\"1\" class=\"dataframe\">\n",
       "  <thead>\n",
       "    <tr style=\"text-align: right;\">\n",
       "      <th></th>\n",
       "      <th>Utbildningsområde</th>\n",
       "      <th>Ansökta utbildningar</th>\n",
       "      <th>Beviljade utbildningar</th>\n",
       "      <th>Beviljandegrad</th>\n",
       "    </tr>\n",
       "  </thead>\n",
       "  <tbody>\n",
       "    <tr>\n",
       "      <th>12</th>\n",
       "      <td>Transporttjänster</td>\n",
       "      <td>1</td>\n",
       "      <td>0.0</td>\n",
       "      <td>0.0</td>\n",
       "    </tr>\n",
       "    <tr>\n",
       "      <th>13</th>\n",
       "      <td>Övrigt</td>\n",
       "      <td>1</td>\n",
       "      <td>0.0</td>\n",
       "      <td>0.0</td>\n",
       "    </tr>\n",
       "    <tr>\n",
       "      <th>10</th>\n",
       "      <td>Pedagogik och undervisning</td>\n",
       "      <td>7</td>\n",
       "      <td>6.0</td>\n",
       "      <td>85.7</td>\n",
       "    </tr>\n",
       "    <tr>\n",
       "      <th>11</th>\n",
       "      <td>Journalistik och information</td>\n",
       "      <td>7</td>\n",
       "      <td>5.0</td>\n",
       "      <td>71.4</td>\n",
       "    </tr>\n",
       "    <tr>\n",
       "      <th>9</th>\n",
       "      <td>Teknik och tillverkning</td>\n",
       "      <td>8</td>\n",
       "      <td>7.0</td>\n",
       "      <td>87.5</td>\n",
       "    </tr>\n",
       "    <tr>\n",
       "      <th>8</th>\n",
       "      <td>Hotell, restaurang och turism</td>\n",
       "      <td>9</td>\n",
       "      <td>9.0</td>\n",
       "      <td>100.0</td>\n",
       "    </tr>\n",
       "    <tr>\n",
       "      <th>7</th>\n",
       "      <td>Kultur, media och design</td>\n",
       "      <td>10</td>\n",
       "      <td>7.0</td>\n",
       "      <td>70.0</td>\n",
       "    </tr>\n",
       "    <tr>\n",
       "      <th>5</th>\n",
       "      <td>Lantbruk, djurvård, trädgård, skog och fiske</td>\n",
       "      <td>11</td>\n",
       "      <td>1.0</td>\n",
       "      <td>9.1</td>\n",
       "    </tr>\n",
       "    <tr>\n",
       "      <th>6</th>\n",
       "      <td>Juridik</td>\n",
       "      <td>11</td>\n",
       "      <td>7.0</td>\n",
       "      <td>63.6</td>\n",
       "    </tr>\n",
       "    <tr>\n",
       "      <th>4</th>\n",
       "      <td>Säkerhetstjänster</td>\n",
       "      <td>15</td>\n",
       "      <td>9.0</td>\n",
       "      <td>60.0</td>\n",
       "    </tr>\n",
       "    <tr>\n",
       "      <th>3</th>\n",
       "      <td>Hälso- och sjukvård samt socialt arbete</td>\n",
       "      <td>23</td>\n",
       "      <td>14.0</td>\n",
       "      <td>60.9</td>\n",
       "    </tr>\n",
       "    <tr>\n",
       "      <th>2</th>\n",
       "      <td>Samhällsbyggnad och byggteknik</td>\n",
       "      <td>41</td>\n",
       "      <td>27.0</td>\n",
       "      <td>65.9</td>\n",
       "    </tr>\n",
       "    <tr>\n",
       "      <th>1</th>\n",
       "      <td>Data/IT</td>\n",
       "      <td>65</td>\n",
       "      <td>39.0</td>\n",
       "      <td>60.0</td>\n",
       "    </tr>\n",
       "    <tr>\n",
       "      <th>0</th>\n",
       "      <td>Ekonomi, administration och försäljning</td>\n",
       "      <td>99</td>\n",
       "      <td>57.0</td>\n",
       "      <td>57.6</td>\n",
       "    </tr>\n",
       "  </tbody>\n",
       "</table>\n",
       "</div>"
      ],
      "text/plain": [
       "                               Utbildningsområde  Ansökta utbildningar  \\\n",
       "12                             Transporttjänster                     1   \n",
       "13                                        Övrigt                     1   \n",
       "10                    Pedagogik och undervisning                     7   \n",
       "11                  Journalistik och information                     7   \n",
       "9                        Teknik och tillverkning                     8   \n",
       "8                  Hotell, restaurang och turism                     9   \n",
       "7                       Kultur, media och design                    10   \n",
       "5   Lantbruk, djurvård, trädgård, skog och fiske                    11   \n",
       "6                                        Juridik                    11   \n",
       "4                              Säkerhetstjänster                    15   \n",
       "3        Hälso- och sjukvård samt socialt arbete                    23   \n",
       "2                 Samhällsbyggnad och byggteknik                    41   \n",
       "1                                        Data/IT                    65   \n",
       "0        Ekonomi, administration och försäljning                    99   \n",
       "\n",
       "    Beviljade utbildningar  Beviljandegrad  \n",
       "12                     0.0             0.0  \n",
       "13                     0.0             0.0  \n",
       "10                     6.0            85.7  \n",
       "11                     5.0            71.4  \n",
       "9                      7.0            87.5  \n",
       "8                      9.0           100.0  \n",
       "7                      7.0            70.0  \n",
       "5                      1.0             9.1  \n",
       "6                      7.0            63.6  \n",
       "4                      9.0            60.0  \n",
       "3                     14.0            60.9  \n",
       "2                     27.0            65.9  \n",
       "1                     39.0            60.0  \n",
       "0                     57.0            57.6  "
      ]
     },
     "execution_count": 6,
     "metadata": {},
     "output_type": "execute_result"
    }
   ],
   "source": [
    "# målet \n",
    "# antalet sökta utbildningar per Län\n",
    "# antalet beviljade utbildningar per Län\n",
    "# beviljandegrad \n",
    "\n",
    "def filter_per_county(df: pd.DataFrame, county: str = \"Stockholm\") -> pd.DataFrame:\n",
    "    \"\"\"\n",
    "    Creates a summary DataFrame for a specific county showing education areas,\n",
    "    total applications, approved applications, and approval rate.\n",
    "    \n",
    "    Parameters:\n",
    "        df: DataFrame with course data\n",
    "        county: Name of county to analyze (default: \"Stockholm\")\n",
    "    \n",
    "    Returns:\n",
    "        DataFrame with columns: Utbildningsområde, Ansökta utbildningar, \n",
    "        Beviljade utbildningar, Beviljandegrad\n",
    "    \"\"\"\n",
    "    # Get total applications per education area\n",
    "    total_df = (\n",
    "        df.query(\"Län == @county\")[\"Utbildningsområde\"]\n",
    "        .value_counts()\n",
    "        .reset_index()\n",
    "        .rename({\"count\": \"Ansökta utbildningar\"}, axis=1)\n",
    "    )\n",
    "    \n",
    "    # Get approved applications per education area\n",
    "    approved_df = (\n",
    "        df.query(\"Län == @county and Beslut == 'Beviljad'\")[\"Utbildningsområde\"]\n",
    "        .value_counts()\n",
    "        .reset_index()\n",
    "        .rename({\"count\": \"Beviljade utbildningar\"}, axis=1)\n",
    "    )\n",
    "    \n",
    "    # Merge total and approved\n",
    "    result_df = pd.merge(\n",
    "        total_df, \n",
    "        approved_df, \n",
    "        on=\"Utbildningsområde\", \n",
    "        how=\"left\"\n",
    "    ).fillna(0)\n",
    "    \n",
    "    # Calculate approval rate\n",
    "    result_df[\"Beviljandegrad\"] = (\n",
    "        (result_df[\"Beviljade utbildningar\"] / result_df[\"Ansökta utbildningar\"] * 100)\n",
    "        .round(1)\n",
    "    )\n",
    "    \n",
    "    # Sort by total applications\n",
    "    result_df = result_df.sort_values(\"Ansökta utbildningar\", ascending=True)\n",
    "    \n",
    "    return result_df\n",
    "\n",
    "filter_per_county(df)"
   ]
  },
  {
   "cell_type": "markdown",
   "id": "538750a8",
   "metadata": {},
   "source": [
    "### Plotly: Bar graph showing the breakdown between different education areas (Utbildningsområde) for a selected County (Län)\n",
    "\n",
    "##### Stapeldiagrammet är uppdelat i respektive utbildningsområde och visar på antalet beviljade utbildningar i blått och antalet avslag i grått."
   ]
  },
  {
   "cell_type": "code",
   "execution_count": 7,
   "id": "e4591204",
   "metadata": {},
   "outputs": [],
   "source": [
    "# Color constants\n",
    "GRAY_1 = \"#CCCCCC\"\n",
    "GRAY_2 = \"#657072\"\n",
    "GRAY_3 = \"#4A606C\"\n",
    "BLUE_1 = \"#1f77b4\"\n",
    "BLUE_11 = \"#0284c7\"\n",
    "GRAY_11 = \"#d1d5db\"\n",
    "GRAY_12 = \"#989898\"\n",
    "GRAY_13 = \"#4A606C\""
   ]
  },
  {
   "cell_type": "code",
   "execution_count": 8,
   "id": "8752b229",
   "metadata": {},
   "outputs": [
    {
     "data": {
      "application/vnd.plotly.v1+json": {
       "config": {
        "plotlyServerURL": "https://plot.ly"
       },
       "data": [
        {
         "marker": {
          "color": "#d1d5db"
         },
         "name": "Totalt",
         "orientation": "h",
         "type": "bar",
         "x": {
          "bdata": "AQEHBwgJCgsLDxcpQWM=",
          "dtype": "i1"
         },
         "y": [
          "Transporttjänster",
          "Övrigt",
          "Pedagogik och undervisning",
          "Journalistik och information",
          "Teknik och tillverkning",
          "Hotell, restaurang och turism",
          "Kultur, media och design",
          "Lantbruk, djurvård, trädgård, skog och fiske",
          "Juridik",
          "Säkerhetstjänster",
          "Hälso- och sjukvård samt socialt arbete",
          "Samhällsbyggnad och byggteknik",
          "Data/IT",
          "Ekonomi, administration och försäljning"
         ]
        },
        {
         "marker": {
          "color": "#0284c7"
         },
         "name": "Beviljad",
         "orientation": "h",
         "type": "bar",
         "x": {
          "bdata": "AAAAAAAAAAAAAAAAAAAAAAAAAAAAABhAAAAAAAAAFEAAAAAAAAAcQAAAAAAAACJAAAAAAAAAHEAAAAAAAADwPwAAAAAAABxAAAAAAAAAIkAAAAAAAAAsQAAAAAAAADtAAAAAAACAQ0AAAAAAAIBMQA==",
          "dtype": "f8"
         },
         "y": [
          "Transporttjänster",
          "Övrigt",
          "Pedagogik och undervisning",
          "Journalistik och information",
          "Teknik och tillverkning",
          "Hotell, restaurang och turism",
          "Kultur, media och design",
          "Lantbruk, djurvård, trädgård, skog och fiske",
          "Juridik",
          "Säkerhetstjänster",
          "Hälso- och sjukvård samt socialt arbete",
          "Samhällsbyggnad och byggteknik",
          "Data/IT",
          "Ekonomi, administration och försäljning"
         ]
        }
       ],
       "layout": {
        "annotations": [
         {
          "font": {
           "color": "#989898",
           "size": 12
          },
          "showarrow": false,
          "text": "0.0%",
          "x": 1.99,
          "xanchor": "left",
          "y": "Transporttjänster",
          "yanchor": "middle"
         },
         {
          "font": {
           "color": "#989898",
           "size": 12
          },
          "showarrow": false,
          "text": "0.0%",
          "x": 1.99,
          "xanchor": "left",
          "y": "Övrigt",
          "yanchor": "middle"
         },
         {
          "font": {
           "color": "#989898",
           "size": 12
          },
          "showarrow": false,
          "text": "85.7%",
          "x": 7.99,
          "xanchor": "left",
          "y": "Pedagogik och undervisning",
          "yanchor": "middle"
         },
         {
          "font": {
           "color": "#989898",
           "size": 12
          },
          "showarrow": false,
          "text": "71.4%",
          "x": 7.99,
          "xanchor": "left",
          "y": "Journalistik och information",
          "yanchor": "middle"
         },
         {
          "font": {
           "color": "#989898",
           "size": 12
          },
          "showarrow": false,
          "text": "87.5%",
          "x": 8.99,
          "xanchor": "left",
          "y": "Teknik och tillverkning",
          "yanchor": "middle"
         },
         {
          "font": {
           "color": "#989898",
           "size": 12
          },
          "showarrow": false,
          "text": "100.0%",
          "x": 9.99,
          "xanchor": "left",
          "y": "Hotell, restaurang och turism",
          "yanchor": "middle"
         },
         {
          "font": {
           "color": "#989898",
           "size": 12
          },
          "showarrow": false,
          "text": "70.0%",
          "x": 10.99,
          "xanchor": "left",
          "y": "Kultur, media och design",
          "yanchor": "middle"
         },
         {
          "font": {
           "color": "#989898",
           "size": 12
          },
          "showarrow": false,
          "text": "9.1%",
          "x": 11.99,
          "xanchor": "left",
          "y": "Lantbruk, djurvård, trädgård, skog och fiske",
          "yanchor": "middle"
         },
         {
          "font": {
           "color": "#989898",
           "size": 12
          },
          "showarrow": false,
          "text": "63.6%",
          "x": 11.99,
          "xanchor": "left",
          "y": "Juridik",
          "yanchor": "middle"
         },
         {
          "font": {
           "color": "#989898",
           "size": 12
          },
          "showarrow": false,
          "text": "60.0%",
          "x": 15.99,
          "xanchor": "left",
          "y": "Säkerhetstjänster",
          "yanchor": "middle"
         },
         {
          "font": {
           "color": "#989898",
           "size": 12
          },
          "showarrow": false,
          "text": "60.9%",
          "x": 23.99,
          "xanchor": "left",
          "y": "Hälso- och sjukvård samt socialt arbete",
          "yanchor": "middle"
         },
         {
          "font": {
           "color": "#989898",
           "size": 12
          },
          "showarrow": false,
          "text": "65.9%",
          "x": 41.99,
          "xanchor": "left",
          "y": "Samhällsbyggnad och byggteknik",
          "yanchor": "middle"
         },
         {
          "font": {
           "color": "#989898",
           "size": 12
          },
          "showarrow": false,
          "text": "60.0%",
          "x": 65.99,
          "xanchor": "left",
          "y": "Data/IT",
          "yanchor": "middle"
         },
         {
          "font": {
           "color": "#989898",
           "size": 12
          },
          "showarrow": false,
          "text": "57.6%",
          "x": 99.99,
          "xanchor": "left",
          "y": "Ekonomi, administration och försäljning",
          "yanchor": "middle"
         },
         {
          "arrowcolor": "#0284c7",
          "arrowhead": 5,
          "arrowwidth": 2,
          "ax": 20,
          "ay": -70,
          "font": {
           "color": "#0284c7",
           "size": 13
          },
          "showarrow": true,
          "standoff": 5,
          "text": "antal beviljade",
          "x": 57,
          "xanchor": "auto",
          "xref": "x",
          "y": "Ekonomi, administration och försäljning",
          "yanchor": "top",
          "yref": "y"
         },
         {
          "arrowcolor": "#989898",
          "arrowhead": 5,
          "arrowwidth": 2,
          "ax": 0,
          "ay": -50,
          "font": {
           "color": "#989898",
           "size": 13
          },
          "showarrow": true,
          "standoff": 5,
          "text": "totalt antal",
          "x": 99,
          "xanchor": "auto",
          "xref": "x",
          "y": "Ekonomi, administration och försäljning",
          "yanchor": "top",
          "yref": "y"
         }
        ],
        "barmode": "overlay",
        "height": 500,
        "margin": {
         "b": 40,
         "l": 100,
         "r": 30,
         "t": 80
        },
        "paper_bgcolor": "white",
        "plot_bgcolor": "white",
        "showlegend": false,
        "template": {
         "data": {
          "bar": [
           {
            "error_x": {
             "color": "#2a3f5f"
            },
            "error_y": {
             "color": "#2a3f5f"
            },
            "marker": {
             "line": {
              "color": "#E5ECF6",
              "width": 0.5
             },
             "pattern": {
              "fillmode": "overlay",
              "size": 10,
              "solidity": 0.2
             }
            },
            "type": "bar"
           }
          ],
          "barpolar": [
           {
            "marker": {
             "line": {
              "color": "#E5ECF6",
              "width": 0.5
             },
             "pattern": {
              "fillmode": "overlay",
              "size": 10,
              "solidity": 0.2
             }
            },
            "type": "barpolar"
           }
          ],
          "carpet": [
           {
            "aaxis": {
             "endlinecolor": "#2a3f5f",
             "gridcolor": "white",
             "linecolor": "white",
             "minorgridcolor": "white",
             "startlinecolor": "#2a3f5f"
            },
            "baxis": {
             "endlinecolor": "#2a3f5f",
             "gridcolor": "white",
             "linecolor": "white",
             "minorgridcolor": "white",
             "startlinecolor": "#2a3f5f"
            },
            "type": "carpet"
           }
          ],
          "choropleth": [
           {
            "colorbar": {
             "outlinewidth": 0,
             "ticks": ""
            },
            "type": "choropleth"
           }
          ],
          "contour": [
           {
            "colorbar": {
             "outlinewidth": 0,
             "ticks": ""
            },
            "colorscale": [
             [
              0,
              "#0d0887"
             ],
             [
              0.1111111111111111,
              "#46039f"
             ],
             [
              0.2222222222222222,
              "#7201a8"
             ],
             [
              0.3333333333333333,
              "#9c179e"
             ],
             [
              0.4444444444444444,
              "#bd3786"
             ],
             [
              0.5555555555555556,
              "#d8576b"
             ],
             [
              0.6666666666666666,
              "#ed7953"
             ],
             [
              0.7777777777777778,
              "#fb9f3a"
             ],
             [
              0.8888888888888888,
              "#fdca26"
             ],
             [
              1,
              "#f0f921"
             ]
            ],
            "type": "contour"
           }
          ],
          "contourcarpet": [
           {
            "colorbar": {
             "outlinewidth": 0,
             "ticks": ""
            },
            "type": "contourcarpet"
           }
          ],
          "heatmap": [
           {
            "colorbar": {
             "outlinewidth": 0,
             "ticks": ""
            },
            "colorscale": [
             [
              0,
              "#0d0887"
             ],
             [
              0.1111111111111111,
              "#46039f"
             ],
             [
              0.2222222222222222,
              "#7201a8"
             ],
             [
              0.3333333333333333,
              "#9c179e"
             ],
             [
              0.4444444444444444,
              "#bd3786"
             ],
             [
              0.5555555555555556,
              "#d8576b"
             ],
             [
              0.6666666666666666,
              "#ed7953"
             ],
             [
              0.7777777777777778,
              "#fb9f3a"
             ],
             [
              0.8888888888888888,
              "#fdca26"
             ],
             [
              1,
              "#f0f921"
             ]
            ],
            "type": "heatmap"
           }
          ],
          "histogram": [
           {
            "marker": {
             "pattern": {
              "fillmode": "overlay",
              "size": 10,
              "solidity": 0.2
             }
            },
            "type": "histogram"
           }
          ],
          "histogram2d": [
           {
            "colorbar": {
             "outlinewidth": 0,
             "ticks": ""
            },
            "colorscale": [
             [
              0,
              "#0d0887"
             ],
             [
              0.1111111111111111,
              "#46039f"
             ],
             [
              0.2222222222222222,
              "#7201a8"
             ],
             [
              0.3333333333333333,
              "#9c179e"
             ],
             [
              0.4444444444444444,
              "#bd3786"
             ],
             [
              0.5555555555555556,
              "#d8576b"
             ],
             [
              0.6666666666666666,
              "#ed7953"
             ],
             [
              0.7777777777777778,
              "#fb9f3a"
             ],
             [
              0.8888888888888888,
              "#fdca26"
             ],
             [
              1,
              "#f0f921"
             ]
            ],
            "type": "histogram2d"
           }
          ],
          "histogram2dcontour": [
           {
            "colorbar": {
             "outlinewidth": 0,
             "ticks": ""
            },
            "colorscale": [
             [
              0,
              "#0d0887"
             ],
             [
              0.1111111111111111,
              "#46039f"
             ],
             [
              0.2222222222222222,
              "#7201a8"
             ],
             [
              0.3333333333333333,
              "#9c179e"
             ],
             [
              0.4444444444444444,
              "#bd3786"
             ],
             [
              0.5555555555555556,
              "#d8576b"
             ],
             [
              0.6666666666666666,
              "#ed7953"
             ],
             [
              0.7777777777777778,
              "#fb9f3a"
             ],
             [
              0.8888888888888888,
              "#fdca26"
             ],
             [
              1,
              "#f0f921"
             ]
            ],
            "type": "histogram2dcontour"
           }
          ],
          "mesh3d": [
           {
            "colorbar": {
             "outlinewidth": 0,
             "ticks": ""
            },
            "type": "mesh3d"
           }
          ],
          "parcoords": [
           {
            "line": {
             "colorbar": {
              "outlinewidth": 0,
              "ticks": ""
             }
            },
            "type": "parcoords"
           }
          ],
          "pie": [
           {
            "automargin": true,
            "type": "pie"
           }
          ],
          "scatter": [
           {
            "fillpattern": {
             "fillmode": "overlay",
             "size": 10,
             "solidity": 0.2
            },
            "type": "scatter"
           }
          ],
          "scatter3d": [
           {
            "line": {
             "colorbar": {
              "outlinewidth": 0,
              "ticks": ""
             }
            },
            "marker": {
             "colorbar": {
              "outlinewidth": 0,
              "ticks": ""
             }
            },
            "type": "scatter3d"
           }
          ],
          "scattercarpet": [
           {
            "marker": {
             "colorbar": {
              "outlinewidth": 0,
              "ticks": ""
             }
            },
            "type": "scattercarpet"
           }
          ],
          "scattergeo": [
           {
            "marker": {
             "colorbar": {
              "outlinewidth": 0,
              "ticks": ""
             }
            },
            "type": "scattergeo"
           }
          ],
          "scattergl": [
           {
            "marker": {
             "colorbar": {
              "outlinewidth": 0,
              "ticks": ""
             }
            },
            "type": "scattergl"
           }
          ],
          "scattermap": [
           {
            "marker": {
             "colorbar": {
              "outlinewidth": 0,
              "ticks": ""
             }
            },
            "type": "scattermap"
           }
          ],
          "scattermapbox": [
           {
            "marker": {
             "colorbar": {
              "outlinewidth": 0,
              "ticks": ""
             }
            },
            "type": "scattermapbox"
           }
          ],
          "scatterpolar": [
           {
            "marker": {
             "colorbar": {
              "outlinewidth": 0,
              "ticks": ""
             }
            },
            "type": "scatterpolar"
           }
          ],
          "scatterpolargl": [
           {
            "marker": {
             "colorbar": {
              "outlinewidth": 0,
              "ticks": ""
             }
            },
            "type": "scatterpolargl"
           }
          ],
          "scatterternary": [
           {
            "marker": {
             "colorbar": {
              "outlinewidth": 0,
              "ticks": ""
             }
            },
            "type": "scatterternary"
           }
          ],
          "surface": [
           {
            "colorbar": {
             "outlinewidth": 0,
             "ticks": ""
            },
            "colorscale": [
             [
              0,
              "#0d0887"
             ],
             [
              0.1111111111111111,
              "#46039f"
             ],
             [
              0.2222222222222222,
              "#7201a8"
             ],
             [
              0.3333333333333333,
              "#9c179e"
             ],
             [
              0.4444444444444444,
              "#bd3786"
             ],
             [
              0.5555555555555556,
              "#d8576b"
             ],
             [
              0.6666666666666666,
              "#ed7953"
             ],
             [
              0.7777777777777778,
              "#fb9f3a"
             ],
             [
              0.8888888888888888,
              "#fdca26"
             ],
             [
              1,
              "#f0f921"
             ]
            ],
            "type": "surface"
           }
          ],
          "table": [
           {
            "cells": {
             "fill": {
              "color": "#EBF0F8"
             },
             "line": {
              "color": "white"
             }
            },
            "header": {
             "fill": {
              "color": "#C8D4E3"
             },
             "line": {
              "color": "white"
             }
            },
            "type": "table"
           }
          ]
         },
         "layout": {
          "annotationdefaults": {
           "arrowcolor": "#2a3f5f",
           "arrowhead": 0,
           "arrowwidth": 1
          },
          "autotypenumbers": "strict",
          "coloraxis": {
           "colorbar": {
            "outlinewidth": 0,
            "ticks": ""
           }
          },
          "colorscale": {
           "diverging": [
            [
             0,
             "#8e0152"
            ],
            [
             0.1,
             "#c51b7d"
            ],
            [
             0.2,
             "#de77ae"
            ],
            [
             0.3,
             "#f1b6da"
            ],
            [
             0.4,
             "#fde0ef"
            ],
            [
             0.5,
             "#f7f7f7"
            ],
            [
             0.6,
             "#e6f5d0"
            ],
            [
             0.7,
             "#b8e186"
            ],
            [
             0.8,
             "#7fbc41"
            ],
            [
             0.9,
             "#4d9221"
            ],
            [
             1,
             "#276419"
            ]
           ],
           "sequential": [
            [
             0,
             "#0d0887"
            ],
            [
             0.1111111111111111,
             "#46039f"
            ],
            [
             0.2222222222222222,
             "#7201a8"
            ],
            [
             0.3333333333333333,
             "#9c179e"
            ],
            [
             0.4444444444444444,
             "#bd3786"
            ],
            [
             0.5555555555555556,
             "#d8576b"
            ],
            [
             0.6666666666666666,
             "#ed7953"
            ],
            [
             0.7777777777777778,
             "#fb9f3a"
            ],
            [
             0.8888888888888888,
             "#fdca26"
            ],
            [
             1,
             "#f0f921"
            ]
           ],
           "sequentialminus": [
            [
             0,
             "#0d0887"
            ],
            [
             0.1111111111111111,
             "#46039f"
            ],
            [
             0.2222222222222222,
             "#7201a8"
            ],
            [
             0.3333333333333333,
             "#9c179e"
            ],
            [
             0.4444444444444444,
             "#bd3786"
            ],
            [
             0.5555555555555556,
             "#d8576b"
            ],
            [
             0.6666666666666666,
             "#ed7953"
            ],
            [
             0.7777777777777778,
             "#fb9f3a"
            ],
            [
             0.8888888888888888,
             "#fdca26"
            ],
            [
             1,
             "#f0f921"
            ]
           ]
          },
          "colorway": [
           "#636efa",
           "#EF553B",
           "#00cc96",
           "#ab63fa",
           "#FFA15A",
           "#19d3f3",
           "#FF6692",
           "#B6E880",
           "#FF97FF",
           "#FECB52"
          ],
          "font": {
           "color": "#2a3f5f"
          },
          "geo": {
           "bgcolor": "white",
           "lakecolor": "white",
           "landcolor": "#E5ECF6",
           "showlakes": true,
           "showland": true,
           "subunitcolor": "white"
          },
          "hoverlabel": {
           "align": "left"
          },
          "hovermode": "closest",
          "mapbox": {
           "style": "light"
          },
          "paper_bgcolor": "white",
          "plot_bgcolor": "#E5ECF6",
          "polar": {
           "angularaxis": {
            "gridcolor": "white",
            "linecolor": "white",
            "ticks": ""
           },
           "bgcolor": "#E5ECF6",
           "radialaxis": {
            "gridcolor": "white",
            "linecolor": "white",
            "ticks": ""
           }
          },
          "scene": {
           "xaxis": {
            "backgroundcolor": "#E5ECF6",
            "gridcolor": "white",
            "gridwidth": 2,
            "linecolor": "white",
            "showbackground": true,
            "ticks": "",
            "zerolinecolor": "white"
           },
           "yaxis": {
            "backgroundcolor": "#E5ECF6",
            "gridcolor": "white",
            "gridwidth": 2,
            "linecolor": "white",
            "showbackground": true,
            "ticks": "",
            "zerolinecolor": "white"
           },
           "zaxis": {
            "backgroundcolor": "#E5ECF6",
            "gridcolor": "white",
            "gridwidth": 2,
            "linecolor": "white",
            "showbackground": true,
            "ticks": "",
            "zerolinecolor": "white"
           }
          },
          "shapedefaults": {
           "line": {
            "color": "#2a3f5f"
           }
          },
          "ternary": {
           "aaxis": {
            "gridcolor": "white",
            "linecolor": "white",
            "ticks": ""
           },
           "baxis": {
            "gridcolor": "white",
            "linecolor": "white",
            "ticks": ""
           },
           "bgcolor": "#E5ECF6",
           "caxis": {
            "gridcolor": "white",
            "linecolor": "white",
            "ticks": ""
           }
          },
          "title": {
           "x": 0.05
          },
          "xaxis": {
           "automargin": true,
           "gridcolor": "white",
           "linecolor": "white",
           "ticks": "",
           "title": {
            "standoff": 15
           },
           "zerolinecolor": "white",
           "zerolinewidth": 2
          },
          "yaxis": {
           "automargin": true,
           "gridcolor": "white",
           "linecolor": "white",
           "ticks": "",
           "title": {
            "standoff": 15
           },
           "zerolinecolor": "white",
           "zerolinewidth": 2
          }
         }
        },
        "title": {
         "text": "Antal beviljade vs. totala ansökningar för kurser i Stockholm",
         "x": 0.5,
         "y": 0.95
        },
        "xaxis": {
         "linecolor": "#989898",
         "showline": true,
         "tickfont": {
          "color": "#989898",
          "family": "Arial",
          "size": 13
         }
        },
        "yaxis": {
         "linecolor": "#989898",
         "showline": true,
         "tickfont": {
          "color": "#989898",
          "family": "Arial",
          "size": 13
         }
        }
       }
      }
     },
     "metadata": {},
     "output_type": "display_data"
    }
   ],
   "source": [
    "import plotly.graph_objects as go\n",
    "\n",
    "def create_county_bar(df_summary: pd.DataFrame, \n",
    "                     county: str,\n",
    "                     show_arrows: bool = True,\n",
    "                     height: int = 500,\n",
    "                     **options) -> go.Figure:\n",
    "    \"\"\"\n",
    "    Creates a horizontal bar chart showing total and approved applications per education area.\n",
    "    \n",
    "    Parameters:\n",
    "        df_summary: DataFrame with columns [Utbildningsområde, Ansökta utbildningar, \n",
    "                   Beviljade utbildningar, Beviljandegrad]\n",
    "        county: Name of county for title\n",
    "        show_arrows: Whether to show annotation arrows (default: True)\n",
    "        height: Height of the plot in pixels (default: 500)\n",
    "        **options: Additional options for customization\n",
    "        \n",
    "    Returns:\n",
    "        Plotly Figure object\n",
    "    \"\"\"\n",
    "    # Create figure\n",
    "    fig = go.Figure()\n",
    "    \n",
    "    # Get categories (education areas)\n",
    "    categories = df_summary[\"Utbildningsområde\"].tolist()\n",
    "    \n",
    "    # Add total applications bars\n",
    "    fig.add_trace(go.Bar(\n",
    "        y=categories,\n",
    "        x=df_summary[\"Ansökta utbildningar\"],\n",
    "        name=\"Totalt\",\n",
    "        orientation=\"h\",\n",
    "        marker_color=GRAY_11\n",
    "    ))\n",
    "    \n",
    "    # Add approved applications bars\n",
    "    fig.add_trace(go.Bar(\n",
    "        y=categories,\n",
    "        x=df_summary[\"Beviljade utbildningar\"],\n",
    "        name=\"Beviljad\",\n",
    "        orientation=\"h\",\n",
    "        marker_color=BLUE_11\n",
    "    ))\n",
    "    \n",
    "    # Prepare approval rate annotations\n",
    "    approval_annotations = []\n",
    "    for i, row in df_summary.iterrows():\n",
    "        approval_annotations.append(dict(\n",
    "            x=row[\"Ansökta utbildningar\"] + max(df_summary[\"Ansökta utbildningar\"]) * 0.01,\n",
    "            y=row[\"Utbildningsområde\"],\n",
    "            text=f\"{row['Beviljandegrad']}%\",\n",
    "            showarrow=False,\n",
    "            font=dict(color=GRAY_12, size=12),\n",
    "            xanchor=\"left\",\n",
    "            yanchor=\"middle\"\n",
    "        ))\n",
    "    \n",
    "    # Add arrow annotations if requested\n",
    "    all_annotations = approval_annotations\n",
    "    if show_arrows:\n",
    "        # Get values for the top category\n",
    "        first_category = categories[-1]\n",
    "        first_value_approved = df_summary[\"Beviljade utbildningar\"].iloc[-1]\n",
    "        first_value_total = df_summary[\"Ansökta utbildningar\"].iloc[-1]\n",
    "        \n",
    "        arrow_annotations = [\n",
    "            dict(\n",
    "                xref=\"x\", yref=\"y\",\n",
    "                x=first_value_approved,\n",
    "                y=first_category,\n",
    "                text=\"antal beviljade\",\n",
    "                showarrow=True,\n",
    "                arrowhead=5,\n",
    "                ax=20, ay=-70,\n",
    "                font=dict(color=BLUE_11, size=13),\n",
    "                arrowcolor=BLUE_11,\n",
    "                arrowwidth=2,\n",
    "                xanchor=\"auto\",\n",
    "                yanchor=\"top\",\n",
    "                standoff=5\n",
    "            ),\n",
    "            dict(\n",
    "                xref=\"x\", yref=\"y\",\n",
    "                x=first_value_total,\n",
    "                y=first_category,\n",
    "                text=\"totalt antal\",\n",
    "                showarrow=True,\n",
    "                arrowhead=5,\n",
    "                ax=0, ay=-50,\n",
    "                font=dict(color=GRAY_12, size=13),\n",
    "                arrowcolor=GRAY_12,\n",
    "                arrowwidth=2,\n",
    "                xanchor=\"auto\",\n",
    "                yanchor=\"top\",\n",
    "                standoff=5\n",
    "            )\n",
    "        ]\n",
    "        all_annotations.extend(arrow_annotations)\n",
    "    \n",
    "    # Layout customization\n",
    "    fig.update_layout(\n",
    "        title=dict(\n",
    "            text=f\"Antal beviljade vs. totala ansökningar för kurser i {county}\",\n",
    "            x=0.5,\n",
    "            y=0.95\n",
    "        ),\n",
    "        barmode=\"overlay\",\n",
    "        margin=dict(l=100, r=30, t=80, b=40),\n",
    "        height=height,\n",
    "        plot_bgcolor='white',\n",
    "        paper_bgcolor='white',\n",
    "        showlegend=False,\n",
    "        yaxis=dict(\n",
    "            showline=True,\n",
    "            linecolor=GRAY_12,\n",
    "            tickfont=dict(\n",
    "                color=GRAY_12,\n",
    "                size=13,\n",
    "                family=\"Arial\"\n",
    "            )\n",
    "        ),\n",
    "        xaxis=dict(\n",
    "            showline=True,\n",
    "            linecolor=GRAY_12,\n",
    "            tickfont=dict(\n",
    "                color=GRAY_12,\n",
    "                size=13,\n",
    "                family=\"Arial\"\n",
    "            )\n",
    "        ),\n",
    "        annotations=all_annotations,\n",
    "        **options  # Allow additional layout customization\n",
    "    )\n",
    "    \n",
    "    return fig\n",
    "\n",
    "# Example usage:\n",
    "df_summary = filter_per_county(df, \"Stockholm\")\n",
    "fig = create_county_bar(df_summary, \"Stockholm\")\n",
    "fig.show()"
   ]
  },
  {
   "cell_type": "code",
   "execution_count": null,
   "id": "6ae47f61",
   "metadata": {},
   "outputs": [],
   "source": []
  }
 ],
 "metadata": {
  "kernelspec": {
   "display_name": "yh_dahsboard_katrin_rylander",
   "language": "python",
   "name": "python3"
  },
  "language_info": {
   "codemirror_mode": {
    "name": "ipython",
    "version": 3
   },
   "file_extension": ".py",
   "mimetype": "text/x-python",
   "name": "python",
   "nbconvert_exporter": "python",
   "pygments_lexer": "ipython3",
   "version": "3.12.3"
  }
 },
 "nbformat": 4,
 "nbformat_minor": 5
}
